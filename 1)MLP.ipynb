{
  "nbformat": 4,
  "nbformat_minor": 0,
  "metadata": {
    "colab": {
      "name": "MLP.ipynb",
      "version": "0.3.2",
      "provenance": [],
      "collapsed_sections": []
    },
    "kernelspec": {
      "name": "python3",
      "display_name": "Python 3"
    },
    "accelerator": "GPU"
  },
  "cells": [
    {
      "metadata": {
        "id": "cmMrWLsNr19B",
        "colab_type": "code",
        "colab": {}
      },
      "cell_type": "code",
      "source": [
        "# Normalization will help our algorithm to train better. The networks are trying to learn how important and how weighty a certain pixel should be .\n",
        "# to determine the class of the image. Normalizing the pixel values help these gradients calculations stay consistent and not let them get so large that \n",
        "# they slow down or prevent the network from training. in MLP, we do vector flattening ."
      ],
      "execution_count": 0,
      "outputs": []
    },
    {
      "metadata": {
        "id": "tNzWdYw48tMC",
        "colab_type": "code",
        "colab": {}
      },
      "cell_type": "code",
      "source": [
        "# !pip install torch"
      ],
      "execution_count": 0,
      "outputs": []
    },
    {
      "metadata": {
        "id": "vyYQx9_s89lO",
        "colab_type": "code",
        "colab": {}
      },
      "cell_type": "code",
      "source": [
        "# !pip install torchvision"
      ],
      "execution_count": 0,
      "outputs": []
    },
    {
      "metadata": {
        "id": "dQK1BpREtzYX",
        "colab_type": "code",
        "colab": {}
      },
      "cell_type": "code",
      "source": [
        "import torch\n",
        "import numpy as np"
      ],
      "execution_count": 0,
      "outputs": []
    },
    {
      "metadata": {
        "id": "C9PT-CjT8pIE",
        "colab_type": "code",
        "colab": {}
      },
      "cell_type": "code",
      "source": [
        "from torchvision import datasets\n",
        "import torchvision.transforms as transforms\n",
        "from torch.utils.data.sampler import SubsetRandomSampler"
      ],
      "execution_count": 0,
      "outputs": []
    },
    {
      "metadata": {
        "id": "IR2d_m7o9Dhk",
        "colab_type": "code",
        "colab": {}
      },
      "cell_type": "code",
      "source": [
        "num_workers=0\n",
        "# data you wanna load in parralael\n",
        "\n",
        "batch_size=20\n",
        "# batch_size IS THE NUMBER OF IMAGES that will be seen in one training iteration, where one training iteration means one time the network makes a mistake\n",
        "# and learns from it using backpropagation.\n",
        "transform=transforms.ToTensor()\n",
        "# Tensor datatype is same as numpy but it can be loaded onto gpu for faster processing.\n",
        "\n",
        "# percentage of training set to use as validation\n",
        "valid_size = 0.2\n"
      ],
      "execution_count": 0,
      "outputs": []
    },
    {
      "metadata": {
        "id": "G2JqbKQs9WTy",
        "colab_type": "code",
        "colab": {}
      },
      "cell_type": "code",
      "source": [
        "# choose the training and test datasets\n",
        "train_data = datasets.MNIST(root='data', train=True,\n",
        "                                   download=True, transform=transform)\n",
        "# Download the data and transfrom it into Tensor datat type whioch has been discussed earlier.Its downloaded to \"data\" directory.\n",
        "test_data = datasets.MNIST(root='data', train=False,\n",
        "                                  download=True, transform=transform)\n"
      ],
      "execution_count": 0,
      "outputs": []
    },
    {
      "metadata": {
        "id": "tM6XcPZPYpaq",
        "colab_type": "code",
        "colab": {}
      },
      "cell_type": "code",
      "source": [
        "\n",
        "# obtain training indices that will be used for validation\n",
        "num_train = len(train_data)\n",
        "indices = list(range(num_train))\n",
        "np.random.shuffle(indices)\n",
        "split = int(np.floor(valid_size * num_train))\n",
        "train_idx, valid_idx = indices[split:], indices[:split]\n",
        "\n",
        "# define samplers for obtaining training and validation batches\n",
        "train_sampler = SubsetRandomSampler(train_idx)\n",
        "valid_sampler = SubsetRandomSampler(valid_idx)\n"
      ],
      "execution_count": 0,
      "outputs": []
    },
    {
      "metadata": {
        "id": "jE248vCWcgeI",
        "colab_type": "code",
        "colab": {}
      },
      "cell_type": "code",
      "source": [
        "# WHY TRAINING , VALIDATION AND TEST DATASET?\n",
        "# After every epoch of training we check how our model performs over our validation dataset and on that basis we decide if our model is\n",
        "# going to overfit or not I.E  check how well the model generalizes . Test set is to know the accuracy of the model after it has been trained.\n",
        "# Its gonna test the model on the data that it hasn't seen before.\n",
        "# If we use only trai n and validation dataset it means the model is biased in favour of validation dataset .\n",
        "# Even our model isn't updating weights based on validation dataset ,our model selction process is based on how it performs on both\n",
        "# train and validation set . and so in the end its biased in favor of validation set."
      ],
      "execution_count": 0,
      "outputs": []
    },
    {
      "metadata": {
        "id": "-zsd1wuT-0hI",
        "colab_type": "code",
        "colab": {}
      },
      "cell_type": "code",
      "source": [
        "# prepare data loaders\n",
        "# These train and test loaders help us to iterate over our data one batch at a time.\n",
        "train_loader = torch.utils.data.DataLoader(train_data, batch_size=batch_size,\n",
        "    sampler=train_sampler, num_workers=num_workers)\n",
        "valid_loader = torch.utils.data.DataLoader(train_data, batch_size=batch_size, \n",
        "    sampler=valid_sampler, num_workers=num_workers)\n",
        "test_loader = torch.utils.data.DataLoader(test_data, batch_size=batch_size, \n",
        "    num_workers=num_workers)"
      ],
      "execution_count": 0,
      "outputs": []
    },
    {
      "metadata": {
        "id": "groqMwN3BAuX",
        "colab_type": "code",
        "colab": {}
      },
      "cell_type": "code",
      "source": [
        "# VISUALISE THE DATA"
      ],
      "execution_count": 0,
      "outputs": []
    },
    {
      "metadata": {
        "id": "nI92lYimAuf6",
        "colab_type": "code",
        "colab": {
          "base_uri": "https://localhost:8080/",
          "height": 283
        },
        "outputId": "3944c25f-ef61-42fb-bd47-393c85e4e106"
      },
      "cell_type": "code",
      "source": [
        "import matplotlib.pyplot as plt\n",
        "%matplotlib inline\n",
        "    \n",
        "# obtain one batch of training images\n",
        "dataiter = iter(train_loader)\n",
        "images, labels = dataiter.next()\n",
        "# Grabbing one batch of image and data and plotting 20 of them.\n",
        "images = images.numpy()\n",
        "\n",
        "# plot the images in the batch, along with the corresponding labels\n",
        "fig = plt.figure(figsize=(25, 4))\n",
        "for idx in np.arange(20):\n",
        "    ax = fig.add_subplot(2, 20/2, idx+1, xticks=[], yticks=[])\n",
        "    ax.imshow(np.squeeze(images[idx]), cmap='gray')\n",
        "    # print out the correct label for each image\n",
        "    # .item() gets the value contained in a Tensor\n",
        "    ax.set_title(str(labels[idx].item()))"
      ],
      "execution_count": 63,
      "outputs": [
        {
          "output_type": "display_data",
          "data": {
            "image/png": "[encoded data removed]",
            "text/plain": [
              "<matplotlib.figure.Figure at 0x7fbd28874e48>"
            ]
          },
          "metadata": {
            "tags": []
          }
        }
      ]
    },
    {
      "metadata": {
        "id": "vvWgS2AkBsDv",
        "colab_type": "code",
        "colab": {}
      },
      "cell_type": "code",
      "source": [
        "# Lets dig deep into an image and see how are the pixel values normalized."
      ],
      "execution_count": 0,
      "outputs": []
    },
    {
      "metadata": {
        "id": "PqA3MiWhA8WV",
        "colab_type": "code",
        "colab": {
          "base_uri": "https://localhost:8080/",
          "height": 700
        },
        "outputId": "df045a33-c135-4fea-a341-4bcbccd5b752"
      },
      "cell_type": "code",
      "source": [
        "img = np.squeeze(images[1])\n",
        "\n",
        "fig = plt.figure(figsize = (12,12)) \n",
        "ax = fig.add_subplot(111)\n",
        "ax.imshow(img, cmap='gray')\n",
        "width, height = img.shape\n",
        "thresh = img.max()/2.5\n",
        "for x in range(width):\n",
        "    for y in range(height):\n",
        "        val = round(img[x][y],2) if img[x][y] !=0 else 0\n",
        "        ax.annotate(str(val), xy=(y,x),\n",
        "                    horizontalalignment='center',\n",
        "                    verticalalignment='center',\n",
        "                    color='white' if img[x][y]<thresh else 'black')"
      ],
      "execution_count": 65,
      "outputs": [
        {
          "output_type": "display_data",
          "data": {
            "image/png": "[encoded data removed]",
            "text/plain": [
              "<matplotlib.figure.Figure at 0x7fbd23dbcbe0>"
            ]
          },
          "metadata": {
            "tags": []
          }
        }
      ]
    },
    {
      "metadata": {
        "id": "5ZdDV7HKBjef",
        "colab_type": "code",
        "colab": {}
      },
      "cell_type": "code",
      "source": [
        "# Define the network architecture"
      ],
      "execution_count": 0,
      "outputs": []
    },
    {
      "metadata": {
        "id": "pJhNzR-xB4Jl",
        "colab_type": "code",
        "colab": {
          "base_uri": "https://localhost:8080/",
          "height": 127
        },
        "outputId": "dc3a69a2-e158-4a30-bbbe-306292266375"
      },
      "cell_type": "code",
      "source": [
        "import torch.nn as nn\n",
        "import torch.nn.functional as F\n",
        "# Init function is used to name or define  the layers like fc1,fc2 and fc3\n",
        "# define the NN architecture\n",
        "class Net(nn.Module):\n",
        "    def __init__(self):\n",
        "        super(Net, self).__init__()\n",
        "        # number of hidden nodes in each layer (512)\n",
        "        hidden_1 = 512\n",
        "        hidden_2 = 512\n",
        "        # linear layer (784 -> hidden_1)\n",
        "        self.fc1 = nn.Linear(28 * 28, hidden_1)\n",
        "        # linear layer (n_hidden -> hidden_2)\n",
        "        self.fc2 = nn.Linear(hidden_1, hidden_2)\n",
        "        # linear layer (n_hidden -> 10)\n",
        "        self.fc3 = nn.Linear(hidden_2, 10)\n",
        "        # dropout layer (p=0.2)\n",
        "        # dropout prevents overfitting of data\n",
        "        self.dropout = nn.Dropout(0.2)\n",
        "# Feed forward function . This is how an input x is passed through various layers and will be transformed \n",
        "    def forward(self, x):\n",
        "        # flatten image input\n",
        "        x = x.view(-1, 28 * 28)\n",
        "        # add hidden layer, with relu activation function\n",
        "        x = F.relu(self.fc1(x))\n",
        "        # add dropout layer\n",
        "        x = self.dropout(x)\n",
        "        # add hidden layer, with relu activation function\n",
        "        x = F.relu(self.fc2(x))\n",
        "        # add dropout layer\n",
        "        x = self.dropout(x)\n",
        "        # add output layer\n",
        "        x = self.fc3(x)\n",
        "        return x\n",
        "\n",
        "# initialize the NN\n",
        "model = Net()\n",
        "print(model)"
      ],
      "execution_count": 67,
      "outputs": [
        {
          "output_type": "stream",
          "text": [
            "Net(\n",
            "  (fc1): Linear(in_features=784, out_features=512, bias=True)\n",
            "  (fc2): Linear(in_features=512, out_features=512, bias=True)\n",
            "  (fc3): Linear(in_features=512, out_features=10, bias=True)\n",
            "  (dropout): Dropout(p=0.2)\n",
            ")\n"
          ],
          "name": "stdout"
        }
      ]
    },
    {
      "metadata": {
        "id": "B4G5wnVrSn5S",
        "colab_type": "code",
        "colab": {}
      },
      "cell_type": "code",
      "source": [
        "# TRAINING THE NETWORK"
      ],
      "execution_count": 0,
      "outputs": []
    },
    {
      "metadata": {
        "id": "vED_CZ2OSquI",
        "colab_type": "code",
        "colab": {}
      },
      "cell_type": "code",
      "source": [
        "# BEFORE WE TRAIN , SET THE LOSS FUNCTION AND THE OPTIMIZER."
      ],
      "execution_count": 0,
      "outputs": []
    },
    {
      "metadata": {
        "id": "E10qqemHTMuI",
        "colab_type": "code",
        "colab": {}
      },
      "cell_type": "code",
      "source": [
        "# Cross entropy function is performing a softmax function on the output layer and then doing negative log loss. If our model produces only\n",
        "# class scores , rest is sorted out , then this loss function will turn them into probability and calculate the loss.\n",
        "# This loss is calculated as an  avg value  over a batch of images."
      ],
      "execution_count": 0,
      "outputs": []
    },
    {
      "metadata": {
        "id": "Vg86h0zXTFdr",
        "colab_type": "code",
        "colab": {}
      },
      "cell_type": "code",
      "source": [
        "# specify loss function (categorical cross-entropy)\n",
        "criterion = nn.CrossEntropyLoss()\n",
        "\n",
        "# specify optimizer (stochastic gradient descent) and learning rate = 0.01\n",
        "optimizer = torch.optim.SGD(model.parameters(), lr=0.01)"
      ],
      "execution_count": 0,
      "outputs": []
    },
    {
      "metadata": {
        "id": "EAQtpQxtWWEE",
        "colab_type": "code",
        "colab": {
          "base_uri": "https://localhost:8080/",
          "height": 1523
        },
        "outputId": "3ef61446-f3fb-4fb9-8ffa-369ab2d86708"
      },
      "cell_type": "code",
      "source": [
        "# number of epochs to train the model\n",
        "n_epochs = 50\n",
        "# Each epoch is one pass via the dataset.\n",
        "# initialize tracker for minimum validation loss\n",
        "valid_loss_min = np.Inf # set initial \"min\" to infinity\n",
        "\n",
        "for epoch in range(n_epochs):\n",
        "    # monitor training loss\n",
        "    train_loss = 0.0\n",
        "    valid_loss = 0.0\n",
        "    \n",
        "    ###################\n",
        "    # train the model #\n",
        "    ###################\n",
        "    model.train() # prep model for training\n",
        "#   train_loader will load the batch of data and we will train our model by looking at each and every image input and label for that batch. \n",
        "    for data, target in train_loader:\n",
        "        # clear the gradients of all optimized variables\n",
        "        optimizer.zero_grad()\n",
        "        # forward pass: compute predicted outputs by passing inputs to the model , i.e a batch of data is passed \n",
        "        output = model(data)\n",
        "        # calculate the cross entropy loss\n",
        "        loss = criterion(output, target)\n",
        "        # backward pass: compute gradient of the loss with respect to model parameters\n",
        "        loss.backward()\n",
        "        # perform a single optimization step (parameter update) ,updating the values of weight in the network.\n",
        "        optimizer.step()\n",
        "        # update running training loss\n",
        "#         loss.item() is loss value thats averaged over the batch . In this case we wanna accumulated loss over the batch not the average one.\n",
        "        train_loss += loss.item()*data.size(0)\n",
        "        \n",
        "    ######################    \n",
        "    # validate the model #\n",
        "    ######################\n",
        "#     No backpropagation over validation data\n",
        "    model.eval() # prep model for evaluation\n",
        "    for data, target in valid_loader:\n",
        "        # forward pass: compute predicted outputs by passing inputs to the model\n",
        "        output = model(data)\n",
        "        # calculate the loss\n",
        "        loss = criterion(output, target)\n",
        "        # update running validation loss \n",
        "        valid_loss += loss.item()*data.size(0)\n",
        "        \n",
        "    # print training/validation statistics \n",
        "    # calculate average loss over an epoch\n",
        "    train_loss = train_loss/len(train_loader.dataset)\n",
        "    valid_loss = valid_loss/len(valid_loader.dataset)\n",
        "    \n",
        "    print('Epoch: {} \\tTraining Loss: {:.6f} \\tValidation Loss: {:.6f}'.format(\n",
        "        epoch+1, \n",
        "        train_loss,\n",
        "        valid_loss\n",
        "        ))\n",
        "    \n",
        "    # save model if validation loss has decreased\n",
        "    if valid_loss <= valid_loss_min:\n",
        "        print('Validation loss decreased ({:.6f} --> {:.6f}).  Saving model ...'.format(\n",
        "        valid_loss_min,\n",
        "        valid_loss))\n",
        "        torch.save(model.state_dict(), 'model.pt')\n",
        "        valid_loss_min = valid_loss\n",
        "        \n",
        "# model.eval() will set all the layers in your model to evaluation mode. This affects layers like dropout layers that turn \"off\" nodes during \n",
        "# training with some probability, but should allow every node to be \"on\" for evaluation. So, you should set your \n",
        "# model to evaluation mode before testing or validating your model and set it to model.train() (training mode) only during the training loop.         "
      ],
      "execution_count": 72,
      "outputs": [
        {
          "output_type": "stream",
          "text": [
            "Epoch: 1 \tTraining Loss: 0.757442 \tValidation Loss: 0.075865\n",
            "Validation loss decreased (inf --> 0.075865).  Saving model ...\n",
            "Epoch: 2 \tTraining Loss: 0.279943 \tValidation Loss: 0.059642\n",
            "Validation loss decreased (0.075865 --> 0.059642).  Saving model ...\n",
            "Epoch: 3 \tTraining Loss: 0.223345 \tValidation Loss: 0.049273\n",
            "Validation loss decreased (0.059642 --> 0.049273).  Saving model ...\n",
            "Epoch: 4 \tTraining Loss: 0.185192 \tValidation Loss: 0.042184\n",
            "Validation loss decreased (0.049273 --> 0.042184).  Saving model ...\n",
            "Epoch: 5 \tTraining Loss: 0.157232 \tValidation Loss: 0.037378\n",
            "Validation loss decreased (0.042184 --> 0.037378).  Saving model ...\n",
            "Epoch: 6 \tTraining Loss: 0.137255 \tValidation Loss: 0.032972\n",
            "Validation loss decreased (0.037378 --> 0.032972).  Saving model ...\n",
            "Epoch: 7 \tTraining Loss: 0.119996 \tValidation Loss: 0.029838\n",
            "Validation loss decreased (0.032972 --> 0.029838).  Saving model ...\n",
            "Epoch: 8 \tTraining Loss: 0.108239 \tValidation Loss: 0.027905\n",
            "Validation loss decreased (0.029838 --> 0.027905).  Saving model ...\n",
            "Epoch: 9 \tTraining Loss: 0.095748 \tValidation Loss: 0.025938\n",
            "Validation loss decreased (0.027905 --> 0.025938).  Saving model ...\n",
            "Epoch: 10 \tTraining Loss: 0.087543 \tValidation Loss: 0.023871\n",
            "Validation loss decreased (0.025938 --> 0.023871).  Saving model ...\n",
            "Epoch: 11 \tTraining Loss: 0.081301 \tValidation Loss: 0.022812\n",
            "Validation loss decreased (0.023871 --> 0.022812).  Saving model ...\n",
            "Epoch: 12 \tTraining Loss: 0.074462 \tValidation Loss: 0.021424\n",
            "Validation loss decreased (0.022812 --> 0.021424).  Saving model ...\n",
            "Epoch: 13 \tTraining Loss: 0.067802 \tValidation Loss: 0.020945\n",
            "Validation loss decreased (0.021424 --> 0.020945).  Saving model ...\n",
            "Epoch: 14 \tTraining Loss: 0.063554 \tValidation Loss: 0.020214\n",
            "Validation loss decreased (0.020945 --> 0.020214).  Saving model ...\n",
            "Epoch: 15 \tTraining Loss: 0.058943 \tValidation Loss: 0.019208\n",
            "Validation loss decreased (0.020214 --> 0.019208).  Saving model ...\n",
            "Epoch: 16 \tTraining Loss: 0.055642 \tValidation Loss: 0.018374\n",
            "Validation loss decreased (0.019208 --> 0.018374).  Saving model ...\n",
            "Epoch: 17 \tTraining Loss: 0.051982 \tValidation Loss: 0.018221\n",
            "Validation loss decreased (0.018374 --> 0.018221).  Saving model ...\n",
            "Epoch: 18 \tTraining Loss: 0.048512 \tValidation Loss: 0.017691\n",
            "Validation loss decreased (0.018221 --> 0.017691).  Saving model ...\n",
            "Epoch: 19 \tTraining Loss: 0.045623 \tValidation Loss: 0.016977\n",
            "Validation loss decreased (0.017691 --> 0.016977).  Saving model ...\n",
            "Epoch: 20 \tTraining Loss: 0.042280 \tValidation Loss: 0.016878\n",
            "Validation loss decreased (0.016977 --> 0.016878).  Saving model ...\n",
            "Epoch: 21 \tTraining Loss: 0.040587 \tValidation Loss: 0.016703\n",
            "Validation loss decreased (0.016878 --> 0.016703).  Saving model ...\n",
            "Epoch: 22 \tTraining Loss: 0.037425 \tValidation Loss: 0.016702\n",
            "Validation loss decreased (0.016703 --> 0.016702).  Saving model ...\n",
            "Epoch: 23 \tTraining Loss: 0.036098 \tValidation Loss: 0.015998\n",
            "Validation loss decreased (0.016702 --> 0.015998).  Saving model ...\n",
            "Epoch: 24 \tTraining Loss: 0.033718 \tValidation Loss: 0.015943\n",
            "Validation loss decreased (0.015998 --> 0.015943).  Saving model ...\n",
            "Epoch: 25 \tTraining Loss: 0.031971 \tValidation Loss: 0.015678\n",
            "Validation loss decreased (0.015943 --> 0.015678).  Saving model ...\n",
            "Epoch: 26 \tTraining Loss: 0.030333 \tValidation Loss: 0.015488\n",
            "Validation loss decreased (0.015678 --> 0.015488).  Saving model ...\n",
            "Epoch: 27 \tTraining Loss: 0.028844 \tValidation Loss: 0.015523\n",
            "Epoch: 28 \tTraining Loss: 0.027145 \tValidation Loss: 0.015619\n",
            "Epoch: 29 \tTraining Loss: 0.025046 \tValidation Loss: 0.015220\n",
            "Validation loss decreased (0.015488 --> 0.015220).  Saving model ...\n",
            "Epoch: 30 \tTraining Loss: 0.024050 \tValidation Loss: 0.015481\n",
            "Epoch: 31 \tTraining Loss: 0.023634 \tValidation Loss: 0.014787\n",
            "Validation loss decreased (0.015220 --> 0.014787).  Saving model ...\n",
            "Epoch: 32 \tTraining Loss: 0.021860 \tValidation Loss: 0.015525\n",
            "Epoch: 33 \tTraining Loss: 0.021509 \tValidation Loss: 0.015153\n",
            "Epoch: 34 \tTraining Loss: 0.021041 \tValidation Loss: 0.015035\n",
            "Epoch: 35 \tTraining Loss: 0.018468 \tValidation Loss: 0.015194\n",
            "Epoch: 36 \tTraining Loss: 0.017561 \tValidation Loss: 0.014970\n",
            "Epoch: 37 \tTraining Loss: 0.018228 \tValidation Loss: 0.014701\n",
            "Validation loss decreased (0.014787 --> 0.014701).  Saving model ...\n",
            "Epoch: 38 \tTraining Loss: 0.016643 \tValidation Loss: 0.014821\n",
            "Epoch: 39 \tTraining Loss: 0.016597 \tValidation Loss: 0.014628\n",
            "Validation loss decreased (0.014701 --> 0.014628).  Saving model ...\n",
            "Epoch: 40 \tTraining Loss: 0.015244 \tValidation Loss: 0.014761\n",
            "Epoch: 41 \tTraining Loss: 0.015338 \tValidation Loss: 0.014462\n",
            "Validation loss decreased (0.014628 --> 0.014462).  Saving model ...\n",
            "Epoch: 42 \tTraining Loss: 0.014158 \tValidation Loss: 0.014764\n",
            "Epoch: 43 \tTraining Loss: 0.014024 \tValidation Loss: 0.014557\n",
            "Epoch: 44 \tTraining Loss: 0.013038 \tValidation Loss: 0.014629\n",
            "Epoch: 45 \tTraining Loss: 0.013087 \tValidation Loss: 0.014516\n",
            "Epoch: 46 \tTraining Loss: 0.012119 \tValidation Loss: 0.014415\n",
            "Validation loss decreased (0.014462 --> 0.014415).  Saving model ...\n",
            "Epoch: 47 \tTraining Loss: 0.011650 \tValidation Loss: 0.014870\n",
            "Epoch: 48 \tTraining Loss: 0.011651 \tValidation Loss: 0.014809\n",
            "Epoch: 49 \tTraining Loss: 0.010310 \tValidation Loss: 0.014874\n",
            "Epoch: 50 \tTraining Loss: 0.010340 \tValidation Loss: 0.014863\n"
          ],
          "name": "stdout"
        }
      ]
    },
    {
      "metadata": {
        "id": "diw8hGRWgqXb",
        "colab_type": "code",
        "colab": {}
      },
      "cell_type": "code",
      "source": [
        "# Load the Model with the Lowest Validation Loss"
      ],
      "execution_count": 0,
      "outputs": []
    },
    {
      "metadata": {
        "id": "3jVdnCfpgqGp",
        "colab_type": "code",
        "colab": {}
      },
      "cell_type": "code",
      "source": [
        "model.load_state_dict(torch.load('model.pt'))"
      ],
      "execution_count": 0,
      "outputs": []
    },
    {
      "metadata": {
        "id": "m2ydgBfaY28U",
        "colab_type": "code",
        "colab": {}
      },
      "cell_type": "code",
      "source": [
        "# Test the Trained Network"
      ],
      "execution_count": 0,
      "outputs": []
    },
    {
      "metadata": {
        "id": "H-VVD2GnhRWi",
        "colab_type": "code",
        "colab": {}
      },
      "cell_type": "code",
      "source": [
        "# Check out One Solution"
      ],
      "execution_count": 0,
      "outputs": []
    },
    {
      "metadata": {
        "id": "fuULmPMagYW2",
        "colab_type": "code",
        "colab": {
          "base_uri": "https://localhost:8080/",
          "height": 274
        },
        "outputId": "ff5b0b13-719c-4691-d99e-ff1b5b5ee7dc"
      },
      "cell_type": "code",
      "source": [
        "# initialize lists to monitor test loss and accuracy\n",
        "test_loss = 0.0\n",
        "class_correct = list(0. for i in range(10))\n",
        "class_total = list(0. for i in range(10))\n",
        "\n",
        "model.eval() # prep model for evaluation\n",
        "\n",
        "for data, target in test_loader:\n",
        "    # forward pass: compute predicted outputs by passing inputs to the model\n",
        "    output = model(data)\n",
        "    # calculate the loss\n",
        "    loss = criterion(output, target)\n",
        "    # update test loss \n",
        "    test_loss += loss.item()*data.size(0)\n",
        "    # convert output probabilities to predicted class\n",
        "    _, pred = torch.max(output, 1)\n",
        "    # compare predictions to true label\n",
        "    correct = np.squeeze(pred.eq(target.data.view_as(pred)))\n",
        "    # calculate test accuracy for each object class\n",
        "    for i in range(batch_size):\n",
        "        label = target.data[i]\n",
        "        class_correct[label] += correct[i].item()\n",
        "        class_total[label] += 1\n",
        "\n",
        "# calculate and print avg test loss\n",
        "test_loss = test_loss/len(test_loader.dataset)\n",
        "print('Test Loss: {:.6f}\\n'.format(test_loss))\n",
        "\n",
        "for i in range(10):\n",
        "    if class_total[i] > 0:\n",
        "        print('Test Accuracy of %5s: %2d%% (%2d/%2d)' % (\n",
        "            str(i), 100 * class_correct[i] / class_total[i],\n",
        "            np.sum(class_correct[i]), np.sum(class_total[i])))\n",
        "    else:\n",
        "        print('Test Accuracy of %5s: N/A (no training examples)' % (classes[i]))\n",
        "\n",
        "print('\\nTest Accuracy (Overall): %2d%% (%2d/%2d)' % (\n",
        "    100. * np.sum(class_correct) / np.sum(class_total),\n",
        "    np.sum(class_correct), np.sum(class_total)))"
      ],
      "execution_count": 79,
      "outputs": [
        {
          "output_type": "stream",
          "text": [
            "Test Loss: 0.059146\n",
            "\n",
            "Test Accuracy of     0: 99% (972/980)\n",
            "Test Accuracy of     1: 99% (1126/1135)\n",
            "Test Accuracy of     2: 98% (1014/1032)\n",
            "Test Accuracy of     3: 98% (991/1010)\n",
            "Test Accuracy of     4: 97% (958/982)\n",
            "Test Accuracy of     5: 97% (873/892)\n",
            "Test Accuracy of     6: 98% (941/958)\n",
            "Test Accuracy of     7: 97% (1004/1028)\n",
            "Test Accuracy of     8: 97% (946/974)\n",
            "Test Accuracy of     9: 97% (984/1009)\n",
            "\n",
            "Test Accuracy (Overall): 98% (9809/10000)\n"
          ],
          "name": "stdout"
        }
      ]
    },
    {
      "metadata": {
        "id": "yo5ovFwWgbJ8",
        "colab_type": "code",
        "colab": {
          "base_uri": "https://localhost:8080/",
          "height": 35
        },
        "outputId": "0fb47cf2-12ba-43d0-face-0efed9dc5e56"
      },
      "cell_type": "code",
      "source": [
        "pred"
      ],
      "execution_count": 80,
      "outputs": [
        {
          "output_type": "execute_result",
          "data": {
            "text/plain": [
              "tensor([2, 6, 5, 0, 1, 2, 3, 4, 5, 6, 7, 8, 9, 0, 1, 2, 3, 4, 5, 6])"
            ]
          },
          "metadata": {
            "tags": []
          },
          "execution_count": 80
        }
      ]
    },
    {
      "metadata": {
        "id": "EjYP7CcmhGFM",
        "colab_type": "code",
        "colab": {}
      },
      "cell_type": "code",
      "source": [
        "# PIPELINE"
      ],
      "execution_count": 0,
      "outputs": []
    },
    {
      "metadata": {
        "id": "Re8em37sheXo",
        "colab_type": "code",
        "colab": {}
      },
      "cell_type": "code",
      "source": [
        "# 1 -LOAD AND VISUALIZE THE DATA.\n",
        "# 2 -PRE-PROCESS I.E NORMALIZE THE DATA\n",
        "# 3 -DEFINE A MODEL ARCHITECTURE.\n",
        "# 4 -TRAIN YOUR MODEL\n",
        "# 5 -SAVE THE BEST MODEL\n",
        "# 6 -TEST YOUR MODEL ON UNSEEN DATA"
      ],
      "execution_count": 0,
      "outputs": []
    },
    {
      "metadata": {
        "id": "TfN_69Iqhx3I",
        "colab_type": "code",
        "colab": {}
      },
      "cell_type": "code",
      "source": [
        ""
      ],
      "execution_count": 0,
      "outputs": []
    }
  ]
}